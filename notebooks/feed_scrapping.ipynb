{
  "cells": [
    {
      "cell_type": "code",
      "execution_count": null,
      "metadata": {
        "colab": {
          "base_uri": "https://localhost:8080/"
        },
        "id": "nWLIaqh_y3tz",
        "outputId": "4a995050-aadd-4422-bccc-44f4ab54290c"
      },
      "outputs": [],
      "source": [
        "%pip install feedparser pymongo redis pandas"
      ]
    },
    {
      "cell_type": "code",
      "execution_count": null,
      "metadata": {
        "id": "6wHa-2tvxxw0"
      },
      "outputs": [],
      "source": [
        "import hashlib\n",
        "import feedparser\n",
        "import redis\n",
        "import pandas as pd"
      ]
    },
    {
      "cell_type": "code",
      "execution_count": null,
      "metadata": {
        "id": "WnXyevFggB1q"
      },
      "outputs": [],
      "source": [
        "rss_feeds = {\n",
        "    'example': {'link': 'https://www.example.com/rss/'},\n",
        "}"
      ]
    },
    {
      "cell_type": "code",
      "execution_count": null,
      "metadata": {
        "id": "JLiZUFV_Rj-9"
      },
      "outputs": [],
      "source": [
        "def checkHubBub(url):\n",
        "    feed = feedparser.parse(url)\n",
        "\n",
        "    # Look for 'links' in the feed's 'feed' attribute\n",
        "    if 'links' in feed.feed:\n",
        "        for link in feed.feed.links:\n",
        "            if link['rel'] == 'hub':\n",
        "                return \"pubsubhubbub\" in link['href']"
      ]
    },
    {
      "cell_type": "code",
      "execution_count": null,
      "metadata": {
        "colab": {
          "base_uri": "https://localhost:8080/"
        },
        "id": "GuTME78JwWPE",
        "outputId": "a79ed9a5-553a-4a8b-fff4-6d436e58f255"
      },
      "outputs": [],
      "source": [
        "for feedName, data in rss_feeds.items():\n",
        "  print(feedName)\n",
        "  data[\"hasHubbub\"] = checkHubBub(data[\"link\"])\n",
        "  data[\"entries\"] = feedparser.parse(data[\"link\"]).entries\n",
        "\n"
      ]
    },
    {
      "cell_type": "code",
      "execution_count": null,
      "metadata": {
        "id": "PoUyFtTwnQFO"
      },
      "outputs": [],
      "source": [
        "records = []\n",
        "\n",
        "for feedName, data in rss_feeds.items():\n",
        "  for entry in data[\"entries\"]:\n",
        "    id = entry.get('guid', '')\n",
        "    title = entry.get('title', '')\n",
        "    link = entry.get('link', '')\n",
        "    tags = tags = [tag.term for tag in entry.get('tags', [])]\n",
        "\n",
        "    content = entry.get('summary')\n",
        "    if not content or len(content) < 10:\n",
        "      content_data = entry.get('content', [{}])\n",
        "      if isinstance(content_data, list) and isinstance(content_data[0], dict):\n",
        "        content = content_data[0].get('value', '')\n",
        "\n",
        "    if not content or len(content) < 10:\n",
        "      content = title\n",
        "\n",
        "    records.append({\n",
        "        'source': feedName,\n",
        "        'id': id,\n",
        "        'title': title,\n",
        "        'link': link,\n",
        "        'content': content,\n",
        "        'tags': tags\n",
        "    })"
      ]
    },
    {
      "cell_type": "code",
      "execution_count": null,
      "metadata": {
        "id": "YMNdCDvdsR24"
      },
      "outputs": [],
      "source": [
        "df = pd.DataFrame(records)"
      ]
    },
    {
      "cell_type": "code",
      "execution_count": null,
      "metadata": {
        "colab": {
          "base_uri": "https://localhost:8080/",
          "height": 250
        },
        "id": "IIioKOn5W5YK",
        "outputId": "458221c7-4d67-4efb-ab23-53485cac5fd6"
      },
      "outputs": [],
      "source": [
        "df.head()"
      ]
    }
  ],
  "metadata": {
    "colab": {
      "authorship_tag": "ABX9TyOMWaZoL8EQAI0wkCmNOZdE",
      "include_colab_link": true,
      "provenance": []
    },
    "kernelspec": {
      "display_name": "Python 3 (ipykernel)",
      "language": "python",
      "name": "python3"
    },
    "language_info": {
      "codemirror_mode": {
        "name": "ipython",
        "version": 3
      },
      "file_extension": ".py",
      "mimetype": "text/x-python",
      "name": "python",
      "nbconvert_exporter": "python",
      "pygments_lexer": "ipython3",
      "version": "3.11.4"
    }
  },
  "nbformat": 4,
  "nbformat_minor": 0
}
